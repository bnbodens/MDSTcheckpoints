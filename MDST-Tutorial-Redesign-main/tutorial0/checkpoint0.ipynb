{
  "cells": [
    {
      "cell_type": "markdown",
      "metadata": {
        "id": "0a8IYAJUshu1"
      },
      "source": [
        "# Checkpoint 0 "
      ],
      "id": "0a8IYAJUshu1"
    },
    {
      "cell_type": "markdown",
      "metadata": {
        "id": "ALL0ye2GOUed"
      },
      "source": [
        "These exercises are a mix of Python and Pandas practice. Most should be no more than a few lines of code! "
      ],
      "id": "ALL0ye2GOUed"
    },
    {
      "cell_type": "code",
      "execution_count": 29,
      "metadata": {
        "id": "Jo6wuTgkshu1"
      },
      "outputs": [],
      "source": [
        "# here is a Python list:\n",
        "\n",
        "a = [1, 2, 3, 4, 5, 6]\n"
      ],
      "id": "Jo6wuTgkshu1"
    },
    {
      "cell_type": "code",
      "execution_count": 30,
      "id": "779d96b1",
      "metadata": {
        "colab": {
          "base_uri": "https://localhost:8080/"
        },
        "id": "779d96b1",
        "outputId": "70b0d383-b249-472c-ce80-1609dfa28ce6"
      },
      "outputs": [
        {
          "output_type": "stream",
          "name": "stdout",
          "text": [
            "[4, 5, 6]\n"
          ]
        }
      ],
      "source": [
        "# get a list containing the last 3 elements of a\n",
        "# Yes, you can just type out [4, 5, 6] but we really want to see you demonstrate you know how to do that in Python\n",
        "\n",
        "b = a[3:]\n",
        "print(b)"
      ]
    },
    {
      "cell_type": "code",
      "execution_count": 31,
      "id": "b6a54def",
      "metadata": {
        "colab": {
          "base_uri": "https://localhost:8080/"
        },
        "id": "b6a54def",
        "outputId": "373d2935-5e05-4e48-d7c1-b484bc80a471"
      },
      "outputs": [
        {
          "output_type": "stream",
          "name": "stdout",
          "text": [
            "[1, 2, 3, 4, 5, 6, 7, 8, 9, 10, 11, 12, 13, 14, 15, 16, 17, 18, 19, 20, 21, 22, 23, 24, 25, 26, 27, 28, 29, 30, 31, 32, 33, 34, 35, 36, 37, 38, 39, 40, 41, 42, 43, 44, 45, 46, 47, 48, 49, 50, 51, 52, 53, 54, 55, 56, 57, 58, 59, 60, 61, 62, 63, 64, 65, 66, 67, 68, 69, 70, 71, 72, 73, 74, 75, 76, 77, 78, 79, 80, 81, 82, 83, 84, 85, 86, 87, 88, 89, 90, 91, 92, 93, 94, 95, 96, 97, 98, 99, 100]\n"
          ]
        }
      ],
      "source": [
        "# create a list of numbers from 1 to 100\n",
        "l = [*range(1, 101, 1)]\n",
        "print(l)"
      ]
    },
    {
      "cell_type": "code",
      "execution_count": 32,
      "id": "487873ac",
      "metadata": {
        "colab": {
          "base_uri": "https://localhost:8080/"
        },
        "id": "487873ac",
        "outputId": "45f23ade-b1d9-4f08-a873-bc7df52302f0"
      },
      "outputs": [
        {
          "output_type": "stream",
          "name": "stdout",
          "text": [
            "[2, 4, 6, 8, 10, 12, 14, 16, 18, 20, 22, 24, 26, 28, 30, 32, 34, 36, 38, 40, 42, 44, 46, 48, 50, 52, 54, 56, 58, 60, 62, 64, 66, 68, 70, 72, 74, 76, 78, 80, 82, 84, 86, 88, 90, 92, 94, 96, 98, 100]\n"
          ]
        }
      ],
      "source": [
        "# now get a list with only the even numbers between 1 and 100\n",
        "# you may or may not make use of the list you made in the last cell\n",
        "\n",
        "l2 = [*range(2, 101, 2)]\n",
        "print(l2)"
      ]
    },
    {
      "cell_type": "code",
      "execution_count": 33,
      "id": "3d4bb5dd",
      "metadata": {
        "colab": {
          "base_uri": "https://localhost:8080/"
        },
        "id": "3d4bb5dd",
        "outputId": "5f783472-54d3-4bfd-ce6c-122fb2c38253"
      },
      "outputs": [
        {
          "output_type": "stream",
          "name": "stdout",
          "text": [
            "5.0\n",
            "3.3333333333333335\n"
          ]
        }
      ],
      "source": [
        "# write a function that takes two numbers as arguments\n",
        "# and returns the first number divided by the second\n",
        "\n",
        "def func(a, b):\n",
        "  return a / b\n",
        "\n",
        "print(func(10, 2))\n",
        "print(func(10.0, 3))"
      ]
    },
    {
      "cell_type": "code",
      "execution_count": 34,
      "id": "b93669fa",
      "metadata": {
        "colab": {
          "base_uri": "https://localhost:8080/"
        },
        "id": "b93669fa",
        "outputId": "ba1b4353-7a4e-4b1e-d727-ec00f3f3fa00"
      },
      "outputs": [
        {
          "output_type": "stream",
          "name": "stdout",
          "text": [
            "LIST\n",
            "HELLO\n",
            "GOOD MORNING\n"
          ]
        }
      ],
      "source": [
        "# write a function that takes a string as input\n",
        "# and return that string in all caps\n",
        "def func2(c):\n",
        "  d = \"\"\n",
        "  for i in range(len(c)):\n",
        "    if (ord(c[i]) > 96):\n",
        "      d += chr(ord(c[i]) - 32)\n",
        "    else:\n",
        "      d += c[i]\n",
        "  return d\n",
        "\n",
        "print(func2(\"list\"))\n",
        "print(func2(\"hello\"))\n",
        "print(func2(\"Good MoRning\"))\n",
        "\n",
        "  "
      ]
    },
    {
      "cell_type": "code",
      "execution_count": 35,
      "id": "f55df04e",
      "metadata": {
        "id": "f55df04e"
      },
      "outputs": [],
      "source": [
        "# optional challenge - fizzbuzz\n",
        "# you will need to use both iteration and control flow \n",
        "# go through all numbers from 1 to 100 in order\n",
        "# if the number is a multiple of 3, print fizz\n",
        "# if the number is a multiple of 5, print buzz\n",
        "# if the number is a multiple of 3 and 5, print fizzbuzz and NOTHING ELSE\n",
        "# if the number is neither a multiple of 3 nor a multiple of 5, print the number"
      ]
    },
    {
      "cell_type": "code",
      "execution_count": 36,
      "id": "78aace0b",
      "metadata": {
        "colab": {
          "base_uri": "https://localhost:8080/"
        },
        "id": "78aace0b",
        "outputId": "ce824d05-b0cf-4c3a-9842-7d7ba1633b5b"
      },
      "outputs": [
        {
          "output_type": "stream",
          "name": "stdout",
          "text": [
            "{'Gyro': 9, 'Burger': 9, 'Greek Salad': 8, 'Philly Steak': 10}\n"
          ]
        }
      ],
      "source": [
        "# create a dictionary that reflects the following menu pricing (taken from Ahmo's)\n",
        "# Gyro: $9 \n",
        "# Burger: $9\n",
        "# Greek Salad: $8\n",
        "# Philly Steak: $10\n",
        "\n",
        "menu = {\n",
        "    \"Gyro\": 9,\n",
        "    \"Burger\": 9,\n",
        "    \"Greek Salad\": 8,\n",
        "    \"Philly Steak\": 10\n",
        "}\n",
        "\n",
        "print(menu)"
      ]
    },
    {
      "cell_type": "code",
      "execution_count": 37,
      "metadata": {
        "colab": {
          "base_uri": "https://localhost:8080/"
        },
        "id": "WzCQ5HOJshvA",
        "outputId": "4448901e-24e9-4954-e22e-b37fdb1f3845"
      },
      "outputs": [
        {
          "output_type": "stream",
          "name": "stdout",
          "text": [
            "            beverage_category                                    beverage  \\\n",
            "0                      coffee                               brewed coffee   \n",
            "1                      coffee                               brewed coffee   \n",
            "2                      coffee                               brewed coffee   \n",
            "3                      coffee                               brewed coffee   \n",
            "4     classic espresso drinks                                  caff latte   \n",
            "..                        ...                                         ...   \n",
            "237  frappuccino blended crme  strawberries  crme (without whipped cream)   \n",
            "238  frappuccino blended crme        vanilla bean (without whipped cream)   \n",
            "239  frappuccino blended crme        vanilla bean (without whipped cream)   \n",
            "240  frappuccino blended crme        vanilla bean (without whipped cream)   \n",
            "241  frappuccino blended crme        vanilla bean (without whipped cream)   \n",
            "\n",
            "          beverage_prep  calories  total fat  trans fat  saturated fat  \\\n",
            "0                 Short         3        0.1        0.0            0.0   \n",
            "1                  Tall         4        0.1        0.0            0.0   \n",
            "2                Grande         5        0.1        0.0            0.0   \n",
            "3                 Venti         5        0.1        0.0            0.0   \n",
            "4     Short Nonfat Milk        70        0.1        0.1            0.0   \n",
            "..                  ...       ...        ...        ...            ...   \n",
            "237             Soymilk       320        3.2        0.4            0.0   \n",
            "238    Tall Nonfat Milk       170        0.1        0.1            0.0   \n",
            "239          Whole Milk       200        3.5        2.0            0.1   \n",
            "240             Soymilk       180        1.5        0.2            0.0   \n",
            "241  Grande Nonfat Milk       240        0.1        0.1            0.0   \n",
            "\n",
            "     sodium  total carbohydrates  cholesterol  dietary fibre  sugars  protein  \\\n",
            "0         0                    5            0              0       0      0.3   \n",
            "1         0                   10            0              0       0      0.5   \n",
            "2         0                   10            0              0       0      1.0   \n",
            "3         0                   10            0              0       0      1.0   \n",
            "4         5                   75           10              0       9      6.0   \n",
            "..      ...                  ...          ...            ...     ...      ...   \n",
            "237       0                  250           67              1      64      5.0   \n",
            "238       0                  160           39              0      38      4.0   \n",
            "239      10                  160           39              0      38      3.0   \n",
            "240       0                  160           37              1      35      3.0   \n",
            "241       5                  230           56              0      55      5.0   \n",
            "\n",
            "     vitamin a  vitamin c  calcium  iron  caffeine  \n",
            "0            0          0        0   0.0     175.0  \n",
            "1            0          0        0   0.0     260.0  \n",
            "2            0          0        0   0.0     330.0  \n",
            "3            0          0        2   0.0     410.0  \n",
            "4           10          0       20   0.0      75.0  \n",
            "..         ...        ...      ...   ...       ...  \n",
            "237          6          8       20  10.0       0.0  \n",
            "238          6          0       10   0.0       0.0  \n",
            "239          6          0       10   0.0       0.0  \n",
            "240          4          0       10   6.0       0.0  \n",
            "241          8          0       15   0.0       0.0  \n",
            "\n",
            "[242 rows x 18 columns]\n"
          ]
        }
      ],
      "source": [
        "# load in the \"starbucks.csv\" dataset\n",
        "# refer to how we read the cereal.csv dataset in the tutorial\n",
        "import pandas as pd\n",
        "s = pd.read_csv(\"starbucks.csv\")\n",
        "\n",
        "print(s)"
      ],
      "id": "WzCQ5HOJshvA"
    },
    {
      "cell_type": "code",
      "execution_count": 38,
      "id": "68210b5f",
      "metadata": {
        "id": "68210b5f",
        "colab": {
          "base_uri": "https://localhost:8080/"
        },
        "outputId": "83789c03-7cdf-49a7-ea4f-0e233db4b107"
      },
      "outputs": [
        {
          "output_type": "stream",
          "name": "stdout",
          "text": [
            "     calories  sugars  protein\n",
            "0           3       0      0.3\n",
            "40          5       0      0.4\n",
            "80        350      58     15.0\n",
            "120       140      20      6.0\n",
            "160       110      24      2.0\n",
            "200       200      41      3.0\n",
            "240       180      35      3.0\n"
          ]
        }
      ],
      "source": [
        "# output the calories, sugars, and protein columns only of every 40th row. \n",
        "\n",
        "print(s.iloc[::40][[\"calories\", \"sugars\", \"protein\"]])"
      ]
    },
    {
      "cell_type": "code",
      "execution_count": 39,
      "id": "ac0f0c12",
      "metadata": {
        "id": "ac0f0c12",
        "colab": {
          "base_uri": "https://localhost:8080/"
        },
        "outputId": "cf1f2e72-e62d-495e-f552-05f76d80d1c1"
      },
      "outputs": [
        {
          "output_type": "stream",
          "name": "stdout",
          "text": [
            "              beverage_category  \\\n",
            "83    signature espresso drinks   \n",
            "84    signature espresso drinks   \n",
            "85    signature espresso drinks   \n",
            "128             tazo tea drinks   \n",
            "214  frappuccino blended coffee   \n",
            "215  frappuccino blended coffee   \n",
            "216  frappuccino blended coffee   \n",
            "\n",
            "                                          beverage      beverage_prep  \\\n",
            "83   white chocolate mocha (without whipped cream)  Venti Nonfat Milk   \n",
            "84   white chocolate mocha (without whipped cream)            2% Milk   \n",
            "85   white chocolate mocha (without whipped cream)            Soymilk   \n",
            "128                           tazo green tea latte            2% Milk   \n",
            "214              java chip (without whipped cream)  Venti Nonfat Milk   \n",
            "215              java chip (without whipped cream)         Whole Milk   \n",
            "216              java chip (without whipped cream)            Soymilk   \n",
            "\n",
            "     calories  total fat  trans fat  saturated fat  sodium  \\\n",
            "83        450        7.0        6.0            0.0      10   \n",
            "84        510       15.0        9.0            0.2      35   \n",
            "85        460       13.0        6.0            0.0       5   \n",
            "128       450       10.0        5.0            0.3      40   \n",
            "214       420        5.0        4.0            0.0       5   \n",
            "215       460       10.0        7.0            0.2      15   \n",
            "216       430        8.0        4.5            0.0       0   \n",
            "\n",
            "     total carbohydrates  cholesterol  dietary fibre  sugars  protein  \\\n",
            "83                   310           78              0      74     19.0   \n",
            "84                   330           77              0      74     19.0   \n",
            "85                   290           70              1      64     16.0   \n",
            "128                  230           72              2      71     17.0   \n",
            "214                  340           90              2      84      7.0   \n",
            "215                  340           90              2      84      7.0   \n",
            "216                  330           88              3      80      6.0   \n",
            "\n",
            "     vitamin a  vitamin c  calcium  iron  caffeine  \n",
            "83          25          2       60   2.0     150.0  \n",
            "84          20          4       60   2.0     150.0  \n",
            "85          15          2       60  20.0     150.0  \n",
            "128         25         20       50   6.0     110.0  \n",
            "214         10          0       20  35.0     145.0  \n",
            "215          6          0       15  35.0     145.0  \n",
            "216          6          0       20  40.0     145.0  \n"
          ]
        }
      ],
      "source": [
        "# select all rows with more than and including 400 calories\n",
        "\n",
        "print(s[s[\"calories\"] > 400])\n"
      ]
    },
    {
      "cell_type": "code",
      "execution_count": 40,
      "id": "ee8f8241",
      "metadata": {
        "id": "ee8f8241",
        "colab": {
          "base_uri": "https://localhost:8080/"
        },
        "outputId": "8fe82bd9-d71d-436d-9a8f-d76c0a488a13"
      },
      "outputs": [
        {
          "output_type": "stream",
          "name": "stdout",
          "text": [
            "             beverage_category  \\\n",
            "11     classic espresso drinks   \n",
            "14     classic espresso drinks   \n",
            "35     classic espresso drinks   \n",
            "38     classic espresso drinks   \n",
            "69   signature espresso drinks   \n",
            "72   signature espresso drinks   \n",
            "75   signature espresso drinks   \n",
            "77   signature espresso drinks   \n",
            "78   signature espresso drinks   \n",
            "81   signature espresso drinks   \n",
            "84   signature espresso drinks   \n",
            "118            tazo tea drinks   \n",
            "119            tazo tea drinks   \n",
            "121            tazo tea drinks   \n",
            "122            tazo tea drinks   \n",
            "124            tazo tea drinks   \n",
            "125            tazo tea drinks   \n",
            "127            tazo tea drinks   \n",
            "128            tazo tea drinks   \n",
            "169      shaken iced beverages   \n",
            "170      shaken iced beverages   \n",
            "171      shaken iced beverages   \n",
            "172                  smoothies   \n",
            "175                  smoothies   \n",
            "176                  smoothies   \n",
            "177                  smoothies   \n",
            "178                  smoothies   \n",
            "179                  smoothies   \n",
            "180                  smoothies   \n",
            "229   frappuccino blended crme   \n",
            "230   frappuccino blended crme   \n",
            "232   frappuccino blended crme   \n",
            "233   frappuccino blended crme   \n",
            "235   frappuccino blended crme   \n",
            "236   frappuccino blended crme   \n",
            "\n",
            "                                              beverage       beverage_prep  \\\n",
            "11                                          caff latte             2% Milk   \n",
            "14                                          caff latte             2% Milk   \n",
            "35            vanilla latte (or other flavoured latte)             2% Milk   \n",
            "38            vanilla latte (or other flavoured latte)             2% Milk   \n",
            "69                                   caramel macchiato             2% Milk   \n",
            "72                                   caramel macchiato             2% Milk   \n",
            "75       white chocolate mocha (without whipped cream)             2% Milk   \n",
            "77       white chocolate mocha (without whipped cream)    Tall Nonfat Milk   \n",
            "78       white chocolate mocha (without whipped cream)             2% Milk   \n",
            "81       white chocolate mocha (without whipped cream)             2% Milk   \n",
            "84       white chocolate mocha (without whipped cream)             2% Milk   \n",
            "118                               tazo green tea latte   Short Nonfat Milk   \n",
            "119                               tazo green tea latte             2% Milk   \n",
            "121                               tazo green tea latte    Tall Nonfat Milk   \n",
            "122                               tazo green tea latte             2% Milk   \n",
            "124                               tazo green tea latte  Grande Nonfat Milk   \n",
            "125                               tazo green tea latte             2% Milk   \n",
            "127                               tazo green tea latte   Venti Nonfat Milk   \n",
            "128                               tazo green tea latte             2% Milk   \n",
            "169  shaken iced tazo tea lemonade (with classic sy...                Tall   \n",
            "170  shaken iced tazo tea lemonade (with classic sy...              Grande   \n",
            "171  shaken iced tazo tea lemonade (with classic sy...               Venti   \n",
            "172                          banana chocolate smoothie  Grande Nonfat Milk   \n",
            "175                       orange mango banana smoothie  Grande Nonfat Milk   \n",
            "176                       orange mango banana smoothie             2% Milk   \n",
            "177                       orange mango banana smoothie             Soymilk   \n",
            "178                         strawberry banana smoothie  Grande Nonfat Milk   \n",
            "179                         strawberry banana smoothie             2% Milk   \n",
            "180                         strawberry banana smoothie             Soymilk   \n",
            "229         strawberries  crme (without whipped cream)    Tall Nonfat Milk   \n",
            "230         strawberries  crme (without whipped cream)          Whole Milk   \n",
            "232         strawberries  crme (without whipped cream)  Grande Nonfat Milk   \n",
            "233         strawberries  crme (without whipped cream)          Whole Milk   \n",
            "235         strawberries  crme (without whipped cream)   Venti Nonfat Milk   \n",
            "236         strawberries  crme (without whipped cream)          Whole Milk   \n",
            "\n",
            "     calories  total fat  trans fat  saturated fat  sodium  \\\n",
            "11        190        7.0        3.5            0.2      30   \n",
            "14        240        9.0        4.5            0.3      35   \n",
            "35        250        6.0        3.5            0.2      25   \n",
            "38        320        9.0        4.5            0.3      35   \n",
            "69        240        7.0        3.5            0.2      25   \n",
            "72        300        8.0        4.5            0.2      35   \n",
            "75        200        6.0        3.5            0.1      15   \n",
            "77        270        4.5        3.5            0.0       5   \n",
            "78        310        9.0        6.0            0.1      20   \n",
            "81        400       11.0        7.0            0.2      25   \n",
            "84        510       15.0        9.0            0.2      35   \n",
            "118       130        0.2        0.1            0.0       5   \n",
            "119       170        4.0        2.0            0.1      15   \n",
            "121       210        0.4        0.2            0.0       5   \n",
            "122       260        6.0        3.0            0.2      25   \n",
            "124       290        0.5        0.2            0.0      10   \n",
            "125       350        8.0        4.0            0.2      30   \n",
            "127       370        0.5        0.3            0.0      10   \n",
            "128       450       10.0        5.0            0.3      40   \n",
            "169       100        0.0        0.0            0.0       0   \n",
            "170       130        0.0        0.0            0.0       0   \n",
            "171       190        0.0        0.0            0.0       0   \n",
            "172       280        2.5        1.5            0.0       5   \n",
            "175       260        1.0        0.3            0.0       5   \n",
            "176       270        1.5        0.5            0.0       5   \n",
            "177       270        1.5        0.4            0.0       5   \n",
            "178       290        1.0        0.3            0.0       5   \n",
            "179       290        2.0        1.0            0.0       5   \n",
            "180       290        2.0        0.4            0.0       5   \n",
            "229       170        0.1        0.1            0.0       0   \n",
            "230       190        3.0        1.5            0.1      10   \n",
            "232       230        0.2        0.1            0.0       0   \n",
            "233       260        4.0        2.0            0.1      10   \n",
            "235       310        0.2        0.1            0.0       5   \n",
            "236       350        6.0        3.0            0.2      15   \n",
            "\n",
            "     total carbohydrates  cholesterol  dietary fibre  sugars  protein  \\\n",
            "11                   170           19              0      17     12.0   \n",
            "14                   220           24              0      22     16.0   \n",
            "35                   150           37              0      35     12.0   \n",
            "38                   200           46              0      44     15.0   \n",
            "69                   150           34              0      32     10.0   \n",
            "72                   180           43              0      40     13.0   \n",
            "75                   125           31              0      29      7.0   \n",
            "77                   190           47              0      45     12.0   \n",
            "78                   200           46              0      44     11.0   \n",
            "81                   250           61              0      58     15.0   \n",
            "84                   330           77              0      74     19.0   \n",
            "118                   85           26              0      25      7.0   \n",
            "119                   95           26              0      25      7.0   \n",
            "121                  125           42              1      41     11.0   \n",
            "122                  140           41              1      40     10.0   \n",
            "124                  160           57              1      56     14.0   \n",
            "125                  180           57              1      55     14.0   \n",
            "127                  200           73              2      71     18.0   \n",
            "128                  230           72              2      71     17.0   \n",
            "169                    0           25              0      24      0.1   \n",
            "170                    0           33              0      33      0.1   \n",
            "171                    0           49              0      49      0.1   \n",
            "172                  150           53              7      34     20.0   \n",
            "175                  120           54              6      37     16.0   \n",
            "176                  125           53              6      37     16.0   \n",
            "177                  120           53              6      36     15.0   \n",
            "178                  125           58              7      41     16.0   \n",
            "179                  125           58              7      41     16.0   \n",
            "180                  120           58              8      40     16.0   \n",
            "229                  140           39              0      38      3.0   \n",
            "230                  140           38              0      37      3.0   \n",
            "232                  190           53              0      52      4.0   \n",
            "233                  190           53              0      52      4.0   \n",
            "235                  260           70              0      69      6.0   \n",
            "236                  260           70              0      68      6.0   \n",
            "\n",
            "     vitamin a  vitamin c  calcium  iron    caffeine  \n",
            "11          20          2       40   0.0  150.000000  \n",
            "14          25          2       50   0.0  150.000000  \n",
            "35          20          2       35   0.0  150.000000  \n",
            "38          25          2       45   0.0  150.000000  \n",
            "69          15          2       30   0.0  150.000000  \n",
            "72          20          2       40   0.0  150.000000  \n",
            "75           8          2       25   0.0   75.000000  \n",
            "77          15          2       35   0.0   75.000000  \n",
            "78          15          2       35   0.0   75.000000  \n",
            "81          15          2       45   0.0  150.000000  \n",
            "84          20          4       60   2.0  150.000000  \n",
            "118         10          4       20   2.0   25.000000  \n",
            "119         10          6       20   2.0   25.000000  \n",
            "121         20         10       35   4.0   55.000000  \n",
            "122         15         10       35   4.0   55.000000  \n",
            "124         25         15       45   4.0   80.000000  \n",
            "125         20         15       45   4.0   80.000000  \n",
            "127         30         20       60   6.0  110.000000  \n",
            "128         25         20       50   6.0  110.000000  \n",
            "169          0         10        0   0.0   89.520548  \n",
            "170          0         15        0   0.0   89.520548  \n",
            "171          0         20        0   0.0   89.520548  \n",
            "172         10         15       20   0.0   89.520548  \n",
            "175         50         80       10  30.0   15.000000  \n",
            "176         50         80       10   6.0    0.000000  \n",
            "177         50         80       10   6.0    0.000000  \n",
            "178          4        100       10   8.0    0.000000  \n",
            "179          4        100       10   8.0    0.000000  \n",
            "180          2        100       10   8.0    0.000000  \n",
            "229          6          6       10   2.0    0.000000  \n",
            "230          4          6       10   2.0    0.000000  \n",
            "232          8          6       15   4.0    0.000000  \n",
            "233          6          6       15   4.0    0.000000  \n",
            "235         10          8       20   4.0    0.000000  \n",
            "236          8          8       20   4.0    0.000000  \n"
          ]
        }
      ],
      "source": [
        "# select all rows whose vitamin c content is higher than the iron content\n",
        "print(s[s[\"vitamin c\"] > s[\"iron\"]])"
      ]
    },
    {
      "cell_type": "code",
      "execution_count": 41,
      "id": "d4de48bb",
      "metadata": {
        "id": "d4de48bb",
        "colab": {
          "base_uri": "https://localhost:8080/",
          "height": 374
        },
        "outputId": "4a8e5d84-90ec-43e6-e5b9-8adbecdf8ccc"
      },
      "outputs": [
        {
          "output_type": "execute_result",
          "data": {
            "text/plain": [
              "         beverage_category       beverage      beverage_prep  calories  \\\n",
              "0                   coffee  brewed coffee              Short         3   \n",
              "1                   coffee  brewed coffee               Tall         4   \n",
              "2                   coffee  brewed coffee             Grande         5   \n",
              "3                   coffee  brewed coffee              Venti         5   \n",
              "4  classic espresso drinks     caff latte  Short Nonfat Milk        70   \n",
              "\n",
              "   total fat  trans fat  saturated fat  sodium  total carbohydrates  \\\n",
              "0        0.1        0.0            0.0       0                    5   \n",
              "1        0.1        0.0            0.0       0                   10   \n",
              "2        0.1        0.0            0.0       0                   10   \n",
              "3        0.1        0.0            0.0       0                   10   \n",
              "4        0.1        0.1            0.0       5                   75   \n",
              "\n",
              "   cholesterol  dietary fibre  sugars  protein  vitamin a  vitamin c  calcium  \\\n",
              "0            0              0       0      0.3          0          0        0   \n",
              "1            0              0       0      0.5          0          0        0   \n",
              "2            0              0       0      1.0          0          0        0   \n",
              "3            0              0       0      1.0          0          0        2   \n",
              "4           10              0       9      6.0         10          0       20   \n",
              "\n",
              "   iron  caffeine  caffeine_per_calories  \n",
              "0   0.0     175.0              58.333333  \n",
              "1   0.0     260.0              65.000000  \n",
              "2   0.0     330.0              66.000000  \n",
              "3   0.0     410.0              82.000000  \n",
              "4   0.0      75.0               1.071429  "
            ],
            "text/html": [
              "\n",
              "  <div id=\"df-2252bd18-bdc4-4ae2-952f-fb7ebe41470b\">\n",
              "    <div class=\"colab-df-container\">\n",
              "      <div>\n",
              "<style scoped>\n",
              "    .dataframe tbody tr th:only-of-type {\n",
              "        vertical-align: middle;\n",
              "    }\n",
              "\n",
              "    .dataframe tbody tr th {\n",
              "        vertical-align: top;\n",
              "    }\n",
              "\n",
              "    .dataframe thead th {\n",
              "        text-align: right;\n",
              "    }\n",
              "</style>\n",
              "<table border=\"1\" class=\"dataframe\">\n",
              "  <thead>\n",
              "    <tr style=\"text-align: right;\">\n",
              "      <th></th>\n",
              "      <th>beverage_category</th>\n",
              "      <th>beverage</th>\n",
              "      <th>beverage_prep</th>\n",
              "      <th>calories</th>\n",
              "      <th>total fat</th>\n",
              "      <th>trans fat</th>\n",
              "      <th>saturated fat</th>\n",
              "      <th>sodium</th>\n",
              "      <th>total carbohydrates</th>\n",
              "      <th>cholesterol</th>\n",
              "      <th>dietary fibre</th>\n",
              "      <th>sugars</th>\n",
              "      <th>protein</th>\n",
              "      <th>vitamin a</th>\n",
              "      <th>vitamin c</th>\n",
              "      <th>calcium</th>\n",
              "      <th>iron</th>\n",
              "      <th>caffeine</th>\n",
              "      <th>caffeine_per_calories</th>\n",
              "    </tr>\n",
              "  </thead>\n",
              "  <tbody>\n",
              "    <tr>\n",
              "      <th>0</th>\n",
              "      <td>coffee</td>\n",
              "      <td>brewed coffee</td>\n",
              "      <td>Short</td>\n",
              "      <td>3</td>\n",
              "      <td>0.1</td>\n",
              "      <td>0.0</td>\n",
              "      <td>0.0</td>\n",
              "      <td>0</td>\n",
              "      <td>5</td>\n",
              "      <td>0</td>\n",
              "      <td>0</td>\n",
              "      <td>0</td>\n",
              "      <td>0.3</td>\n",
              "      <td>0</td>\n",
              "      <td>0</td>\n",
              "      <td>0</td>\n",
              "      <td>0.0</td>\n",
              "      <td>175.0</td>\n",
              "      <td>58.333333</td>\n",
              "    </tr>\n",
              "    <tr>\n",
              "      <th>1</th>\n",
              "      <td>coffee</td>\n",
              "      <td>brewed coffee</td>\n",
              "      <td>Tall</td>\n",
              "      <td>4</td>\n",
              "      <td>0.1</td>\n",
              "      <td>0.0</td>\n",
              "      <td>0.0</td>\n",
              "      <td>0</td>\n",
              "      <td>10</td>\n",
              "      <td>0</td>\n",
              "      <td>0</td>\n",
              "      <td>0</td>\n",
              "      <td>0.5</td>\n",
              "      <td>0</td>\n",
              "      <td>0</td>\n",
              "      <td>0</td>\n",
              "      <td>0.0</td>\n",
              "      <td>260.0</td>\n",
              "      <td>65.000000</td>\n",
              "    </tr>\n",
              "    <tr>\n",
              "      <th>2</th>\n",
              "      <td>coffee</td>\n",
              "      <td>brewed coffee</td>\n",
              "      <td>Grande</td>\n",
              "      <td>5</td>\n",
              "      <td>0.1</td>\n",
              "      <td>0.0</td>\n",
              "      <td>0.0</td>\n",
              "      <td>0</td>\n",
              "      <td>10</td>\n",
              "      <td>0</td>\n",
              "      <td>0</td>\n",
              "      <td>0</td>\n",
              "      <td>1.0</td>\n",
              "      <td>0</td>\n",
              "      <td>0</td>\n",
              "      <td>0</td>\n",
              "      <td>0.0</td>\n",
              "      <td>330.0</td>\n",
              "      <td>66.000000</td>\n",
              "    </tr>\n",
              "    <tr>\n",
              "      <th>3</th>\n",
              "      <td>coffee</td>\n",
              "      <td>brewed coffee</td>\n",
              "      <td>Venti</td>\n",
              "      <td>5</td>\n",
              "      <td>0.1</td>\n",
              "      <td>0.0</td>\n",
              "      <td>0.0</td>\n",
              "      <td>0</td>\n",
              "      <td>10</td>\n",
              "      <td>0</td>\n",
              "      <td>0</td>\n",
              "      <td>0</td>\n",
              "      <td>1.0</td>\n",
              "      <td>0</td>\n",
              "      <td>0</td>\n",
              "      <td>2</td>\n",
              "      <td>0.0</td>\n",
              "      <td>410.0</td>\n",
              "      <td>82.000000</td>\n",
              "    </tr>\n",
              "    <tr>\n",
              "      <th>4</th>\n",
              "      <td>classic espresso drinks</td>\n",
              "      <td>caff latte</td>\n",
              "      <td>Short Nonfat Milk</td>\n",
              "      <td>70</td>\n",
              "      <td>0.1</td>\n",
              "      <td>0.1</td>\n",
              "      <td>0.0</td>\n",
              "      <td>5</td>\n",
              "      <td>75</td>\n",
              "      <td>10</td>\n",
              "      <td>0</td>\n",
              "      <td>9</td>\n",
              "      <td>6.0</td>\n",
              "      <td>10</td>\n",
              "      <td>0</td>\n",
              "      <td>20</td>\n",
              "      <td>0.0</td>\n",
              "      <td>75.0</td>\n",
              "      <td>1.071429</td>\n",
              "    </tr>\n",
              "  </tbody>\n",
              "</table>\n",
              "</div>\n",
              "      <button class=\"colab-df-convert\" onclick=\"convertToInteractive('df-2252bd18-bdc4-4ae2-952f-fb7ebe41470b')\"\n",
              "              title=\"Convert this dataframe to an interactive table.\"\n",
              "              style=\"display:none;\">\n",
              "        \n",
              "  <svg xmlns=\"http://www.w3.org/2000/svg\" height=\"24px\"viewBox=\"0 0 24 24\"\n",
              "       width=\"24px\">\n",
              "    <path d=\"M0 0h24v24H0V0z\" fill=\"none\"/>\n",
              "    <path d=\"M18.56 5.44l.94 2.06.94-2.06 2.06-.94-2.06-.94-.94-2.06-.94 2.06-2.06.94zm-11 1L8.5 8.5l.94-2.06 2.06-.94-2.06-.94L8.5 2.5l-.94 2.06-2.06.94zm10 10l.94 2.06.94-2.06 2.06-.94-2.06-.94-.94-2.06-.94 2.06-2.06.94z\"/><path d=\"M17.41 7.96l-1.37-1.37c-.4-.4-.92-.59-1.43-.59-.52 0-1.04.2-1.43.59L10.3 9.45l-7.72 7.72c-.78.78-.78 2.05 0 2.83L4 21.41c.39.39.9.59 1.41.59.51 0 1.02-.2 1.41-.59l7.78-7.78 2.81-2.81c.8-.78.8-2.07 0-2.86zM5.41 20L4 18.59l7.72-7.72 1.47 1.35L5.41 20z\"/>\n",
              "  </svg>\n",
              "      </button>\n",
              "      \n",
              "  <style>\n",
              "    .colab-df-container {\n",
              "      display:flex;\n",
              "      flex-wrap:wrap;\n",
              "      gap: 12px;\n",
              "    }\n",
              "\n",
              "    .colab-df-convert {\n",
              "      background-color: #E8F0FE;\n",
              "      border: none;\n",
              "      border-radius: 50%;\n",
              "      cursor: pointer;\n",
              "      display: none;\n",
              "      fill: #1967D2;\n",
              "      height: 32px;\n",
              "      padding: 0 0 0 0;\n",
              "      width: 32px;\n",
              "    }\n",
              "\n",
              "    .colab-df-convert:hover {\n",
              "      background-color: #E2EBFA;\n",
              "      box-shadow: 0px 1px 2px rgba(60, 64, 67, 0.3), 0px 1px 3px 1px rgba(60, 64, 67, 0.15);\n",
              "      fill: #174EA6;\n",
              "    }\n",
              "\n",
              "    [theme=dark] .colab-df-convert {\n",
              "      background-color: #3B4455;\n",
              "      fill: #D2E3FC;\n",
              "    }\n",
              "\n",
              "    [theme=dark] .colab-df-convert:hover {\n",
              "      background-color: #434B5C;\n",
              "      box-shadow: 0px 1px 3px 1px rgba(0, 0, 0, 0.15);\n",
              "      filter: drop-shadow(0px 1px 2px rgba(0, 0, 0, 0.3));\n",
              "      fill: #FFFFFF;\n",
              "    }\n",
              "  </style>\n",
              "\n",
              "      <script>\n",
              "        const buttonEl =\n",
              "          document.querySelector('#df-2252bd18-bdc4-4ae2-952f-fb7ebe41470b button.colab-df-convert');\n",
              "        buttonEl.style.display =\n",
              "          google.colab.kernel.accessAllowed ? 'block' : 'none';\n",
              "\n",
              "        async function convertToInteractive(key) {\n",
              "          const element = document.querySelector('#df-2252bd18-bdc4-4ae2-952f-fb7ebe41470b');\n",
              "          const dataTable =\n",
              "            await google.colab.kernel.invokeFunction('convertToInteractive',\n",
              "                                                     [key], {});\n",
              "          if (!dataTable) return;\n",
              "\n",
              "          const docLinkHtml = 'Like what you see? Visit the ' +\n",
              "            '<a target=\"_blank\" href=https://colab.research.google.com/notebooks/data_table.ipynb>data table notebook</a>'\n",
              "            + ' to learn more about interactive tables.';\n",
              "          element.innerHTML = '';\n",
              "          dataTable['output_type'] = 'display_data';\n",
              "          await google.colab.output.renderOutput(dataTable, element);\n",
              "          const docLink = document.createElement('div');\n",
              "          docLink.innerHTML = docLinkHtml;\n",
              "          element.appendChild(docLink);\n",
              "        }\n",
              "      </script>\n",
              "    </div>\n",
              "  </div>\n",
              "  "
            ]
          },
          "metadata": {},
          "execution_count": 41
        }
      ],
      "source": [
        "# create a new column containing the caffeine per calories of each drink\n",
        "s[\"caffeine_per_calories\"] = s[\"caffeine\"] / s[\"calories\"]\n",
        "s.head()"
      ]
    },
    {
      "cell_type": "code",
      "execution_count": 42,
      "metadata": {
        "id": "rIoxaSxHshvB",
        "colab": {
          "base_uri": "https://localhost:8080/"
        },
        "outputId": "7bb31ec0-452e-4de9-d4b9-91d7c473d6fb"
      },
      "outputs": [
        {
          "output_type": "stream",
          "name": "stdout",
          "text": [
            "193.87190082644628\n"
          ]
        }
      ],
      "source": [
        "# what is the average calorie across all items?\n",
        "print(s[\"calories\"].mean())"
      ],
      "id": "rIoxaSxHshvB"
    },
    {
      "cell_type": "code",
      "execution_count": 43,
      "metadata": {
        "id": "ABX7i49FshvD",
        "colab": {
          "base_uri": "https://localhost:8080/"
        },
        "outputId": "11e12f6c-50ae-4973-9519-3d8f75a3fb05"
      },
      "outputs": [
        {
          "output_type": "stream",
          "name": "stdout",
          "text": [
            "9\n"
          ]
        }
      ],
      "source": [
        "# how many different categories of beverages are there?\n",
        "print(s[\"beverage_category\"].nunique())"
      ],
      "id": "ABX7i49FshvD"
    },
    {
      "cell_type": "code",
      "execution_count": 44,
      "metadata": {
        "id": "P9QatZAzshvE",
        "colab": {
          "base_uri": "https://localhost:8080/"
        },
        "outputId": "0261c400-6679-4f4a-a1ba-ce18a5a9793d"
      },
      "outputs": [
        {
          "output_type": "stream",
          "name": "stdout",
          "text": [
            "beverage_category\n",
            "classic espresso drinks             140.172414\n",
            "coffee                                4.250000\n",
            "frappuccino blended coffee          276.944444\n",
            "frappuccino blended crme            233.076923\n",
            "frappuccino light blended coffee    162.500000\n",
            "shaken iced beverages               114.444444\n",
            "signature espresso drinks           250.000000\n",
            "smoothies                           282.222222\n",
            "tazo tea drinks                     177.307692\n",
            "Name: calories, dtype: float64\n"
          ]
        }
      ],
      "source": [
        "# what is the average # calories for each beverage category?\n",
        "print(s.groupby(\"beverage_category\")[\"calories\"].mean())"
      ],
      "id": "P9QatZAzshvE"
    },
    {
      "cell_type": "code",
      "execution_count": 45,
      "metadata": {
        "id": "6wzIJVPhOUem",
        "colab": {
          "base_uri": "https://localhost:8080/",
          "height": 298
        },
        "outputId": "33e2a00d-cc80-44d0-ad46-12b653934e3d"
      },
      "outputs": [
        {
          "output_type": "execute_result",
          "data": {
            "text/plain": [
              "<matplotlib.axes._subplots.AxesSubplot at 0x7ffaae8cab90>"
            ]
          },
          "metadata": {},
          "execution_count": 45
        },
        {
          "output_type": "display_data",
          "data": {
            "text/plain": [
              "<Figure size 432x288 with 1 Axes>"
            ],
            "image/png": "[encoded data removed]"
          },
          "metadata": {
            "needs_background": "light"
          }
        }
      ],
      "source": [
        "# plot the distribution of the number of calories in drinks with a histogram\n",
        "s[\"calories\"].plot.hist(edgecolor='black', alpha=0.8, title=\"number of calories in drinks\")"
      ],
      "id": "6wzIJVPhOUem"
    },
    {
      "cell_type": "code",
      "execution_count": 46,
      "metadata": {
        "id": "aXZ6bENkOUem",
        "colab": {
          "base_uri": "https://localhost:8080/",
          "height": 312
        },
        "outputId": "42e1bee1-f827-4f39-c9e4-a5968d2c2481"
      },
      "outputs": [
        {
          "output_type": "execute_result",
          "data": {
            "text/plain": [
              "<matplotlib.axes._subplots.AxesSubplot at 0x7ffaae2f9050>"
            ]
          },
          "metadata": {},
          "execution_count": 46
        },
        {
          "output_type": "display_data",
          "data": {
            "text/plain": [
              "<Figure size 432x288 with 1 Axes>"
            ],
            "image/png": "[encoded data removed]"
          },
          "metadata": {
            "needs_background": "light"
          }
        }
      ],
      "source": [
        "# plot calories against total fat with a scatterplot\n",
        "s.plot.scatter(x=\"calories\", y=\"total fat\", title=\"Calories vs Total Fat\")"
      ],
      "id": "aXZ6bENkOUem"
    }
  ],
  "metadata": {
    "kernelspec": {
      "display_name": "Python 3.9.0 64-bit",
      "language": "python",
      "name": "python3"
    },
    "language_info": {
      "codemirror_mode": {
        "name": "ipython",
        "version": 3
      },
      "file_extension": ".py",
      "mimetype": "text/x-python",
      "name": "python",
      "nbconvert_exporter": "python",
      "pygments_lexer": "ipython3",
      "version": "3.9.0"
    },
    "vscode": {
      "interpreter": {
        "hash": "6cf8df3ff69f85f626faf55c10df6fe2cb9d1236b4dc73844ee4dc01369c2c99"
      }
    },
    "colab": {
      "provenance": [],
      "collapsed_sections": []
    }
  },
  "nbformat": 4,
  "nbformat_minor": 5
}